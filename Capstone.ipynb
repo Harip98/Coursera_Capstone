{
    "cells": [
        {
            "cell_type": "markdown",
            "metadata": {
                "collapsed": true
            },
            "source": "This notebook is mainly used for the Capstone Project The Battle of the Neighborhood "
        },
        {
            "cell_type": "code",
            "execution_count": 14,
            "metadata": {},
            "outputs": [
                {
                    "name": "stdout",
                    "output_type": "stream",
                    "text": "Hello Capstone \n"
                }
            ],
            "source": "import pandas as pd\nimport numpy as np\nprint(\"Hello Capstone \")"
        },
        {
            "cell_type": "code",
            "execution_count": 15,
            "metadata": {},
            "outputs": [],
            "source": "#!conda install selenium\n#!pip install beautifulsoup4\nfrom selenium import webdriver\nfrom bs4 import BeautifulSoup"
        },
        {
            "cell_type": "code",
            "execution_count": 68,
            "metadata": {
                "scrolled": true
            },
            "outputs": [
                {
                    "data": {
                        "text/plain": "0      M1A\n1      M2A\n2      M3A\n3      M4A\n4      M5A\n5      M6A\n6      M7A\n7      M8A\n8      M9A\n9      M1B\n10     M2B\n11     M3B\n12     M4B\n13     M5B\n14     M6B\n15     M7B\n16     M8B\n17     M9B\n18     M1C\n19     M2C\n20     M3C\n21     M4C\n22     M5C\n23     M6C\n24     M7C\n25     M8C\n26     M9C\n27     M1E\n28     M2E\n29     M3E\n      ... \n150    M7W\n151    M8W\n152    M9W\n153    M1X\n154    M2X\n155    M3X\n156    M4X\n157    M5X\n158    M6X\n159    M7X\n160    M8X\n161    M9X\n162    M1Y\n163    M2Y\n164    M3Y\n165    M4Y\n166    M5Y\n167    M6Y\n168    M7Y\n169    M8Y\n170    M9Y\n171    M1Z\n172    M2Z\n173    M3Z\n174    M4Z\n175    M5Z\n176    M6Z\n177    M7Z\n178    M8Z\n179    M9Z\nName: Postal Code, Length: 180, dtype: object"
                    },
                    "execution_count": 68,
                    "metadata": {},
                    "output_type": "execute_result"
                }
            ],
            "source": "page = pd.read_html('https://en.wikipedia.org/wiki/List_of_postal_codes_of_Canada:_M')[0]\npage['Postal Code']"
        },
        {
            "cell_type": "markdown",
            "metadata": {},
            "source": "First replaced Not assigned to nan. Then removed the columns with nan values in Borough.\n"
        },
        {
            "cell_type": "code",
            "execution_count": 69,
            "metadata": {},
            "outputs": [
                {
                    "data": {
                        "text/plain": "(103,)"
                    },
                    "execution_count": 69,
                    "metadata": {},
                    "output_type": "execute_result"
                }
            ],
            "source": "page.replace('Not assigned', np.nan, inplace = True)\na =page.dropna(subset = ['Borough'])\na = a.dropna(subset = ['Neighbourhood'])\na.reset_index(drop=True, inplace = True)\na['Postal Code']"
        },
        {
            "cell_type": "code",
            "execution_count": 55,
            "metadata": {},
            "outputs": [
                {
                    "data": {
                        "text/plain": "(103, 3)"
                    },
                    "execution_count": 55,
                    "metadata": {},
                    "output_type": "execute_result"
                }
            ],
            "source": "a.shape"
        },
        {
            "cell_type": "code",
            "execution_count": null,
            "metadata": {},
            "outputs": [],
            "source": ""
        }
    ],
    "metadata": {
        "kernelspec": {
            "display_name": "Python 3.6",
            "language": "python",
            "name": "python3"
        },
        "language_info": {
            "codemirror_mode": {
                "name": "ipython",
                "version": 3
            },
            "file_extension": ".py",
            "mimetype": "text/x-python",
            "name": "python",
            "nbconvert_exporter": "python",
            "pygments_lexer": "ipython3",
            "version": "3.6.9"
        }
    },
    "nbformat": 4,
    "nbformat_minor": 1
}